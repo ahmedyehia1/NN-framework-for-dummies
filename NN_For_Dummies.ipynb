{
  "nbformat": 4,
  "nbformat_minor": 0,
  "metadata": {
    "colab": {
      "name": "NN-For-Dummies.ipynb",
      "provenance": [],
      "collapsed_sections": []
    },
    "kernelspec": {
      "name": "python3",
      "display_name": "Python 3"
    }
  },
  "cells": [
    {
      "cell_type": "code",
      "metadata": {
        "colab": {
          "base_uri": "https://localhost:8080/"
        },
        "id": "B9Q9Y1So79Zu",
        "outputId": "04a18e10-a09a-438d-ed24-b54556f49b97"
      },
      "source": [
        "'''pip installing the package we made'''\r\n",
        "pip install nn_for_dummies"
      ],
      "execution_count": 1,
      "outputs": [
        {
          "output_type": "stream",
          "text": [
            "Collecting nn_for_dummies\n",
            "  Downloading https://files.pythonhosted.org/packages/a9/7d/389bd7535034ce9d3eb0cf0565590bcfe3956c7a3d4c57811e896db2ddf5/nn_for_dummies-0.0.31-py3-none-any.whl\n",
            "Installing collected packages: nn-for-dummies\n",
            "Successfully installed nn-for-dummies-0.0.31\n"
          ],
          "name": "stdout"
        }
      ]
    },
    {
      "cell_type": "code",
      "metadata": {
        "id": "Q6EP1l0q8JpN"
      },
      "source": [
        "import nn\r\n",
        "from DataPreProcessing import DataPreProcessing as Data\r\n",
        "import pandas as pd\r\n",
        "import math\r\n",
        "import matplotlib.pyplot as plt\r\n",
        "import matplotlib.image as mpimg\r\n",
        "import os"
      ],
      "execution_count": 8,
      "outputs": []
    },
    {
      "cell_type": "code",
      "metadata": {
        "id": "gmGqJO_38UNJ",
        "colab": {
          "base_uri": "https://localhost:8080/"
        },
        "outputId": "a6034e34-50aa-4876-ce74-e12fc08934a5"
      },
      "source": [
        "'''Stochastic gradient descent with mean absolute error'''\r\n",
        "model = nn.Model(\r\n",
        "    #  nn.Layer(size=(28*28,16*16), activation='Relu'),\r\n",
        "    #  nn.Layer(size=(16*16,16*16), activation='Relu'),\r\n",
        "    #  nn.Layer(size=(16*16,10*10), activation='sigmoid'),\r\n",
        "     nn.Layer(size=(28*28,28), activation='ReLU'),\r\n",
        "     nn.Layer(size=(28,10), activation='tanh')\r\n",
        ")\r\n",
        "\r\n",
        "# import and preprocess data\r\n",
        "x,label = Data.get_data(\"train.csv\")\r\n",
        "x = Data.normalize(x)\r\n",
        "# X_test,label_test = Data.get_data(\"test.csv\")\r\n",
        "# X_test = Data.normalize(X_test)\r\n",
        "X_train, X_test, label_train, label_test = Data.split_data(x,label)\r\n",
        "\r\n",
        "# Train the model\r\n",
        "model.fit(X_train,label_train,'SGD','l1',alpha = 0.01,epoch = 10,graph_on = False)\r\n",
        "# plt.imshow(X_test[0].reshape(28,-1))\r\n",
        "# print(model.forward(X_test[0].reshape(1,-1)))\r\n",
        "\r\n",
        "# evaluate the model\r\n",
        "[accuracy,f1_score,confusion_matrix] = model.evaluate(X_test,label_test,metric = ['accuracy','f1 score','confusion matrix'])\r\n",
        "print(f\"accuracy: {accuracy}\")\r\n",
        "print(f\"f1_score: {f1_score}\")\r\n",
        "print(\"confusion matrix:\\n\",confusion_matrix)\r\n",
        "\r\n",
        "# model.save()"
      ],
      "execution_count": 18,
      "outputs": [
        {
          "output_type": "stream",
          "text": [
            "epoch: 1,    Loss = 3.82717179461017\n",
            "epoch: 2,    Loss = 1.9337245296219399\n",
            "epoch: 3,    Loss = 1.3669444997872395\n",
            "epoch: 4,    Loss = 1.129633775113126\n",
            "epoch: 5,    Loss = 1.0995127303522423\n",
            "epoch: 6,    Loss = 1.057065001788375\n",
            "epoch: 7,    Loss = 1.0570656364589246\n",
            "epoch: 8,    Loss = 1.0570650016710026\n",
            "epoch: 9,    Loss = 1.057064366790747\n",
            "epoch: 10,    Loss = 1.0570656365336113\n",
            "epoch: 11,    Loss = 1.0570650016390366\n",
            "accuracy: 0.4721603563472284\n",
            "f1_score: 0.0\n",
            "confusion matrix:\n",
            "            True  False\n",
            "Positive      0     30\n",
            "Negative  11820  10600\n"
          ],
          "name": "stdout"
        }
      ]
    },
    {
      "cell_type": "code",
      "metadata": {
        "id": "UN5-mqKhISJ1"
      },
      "source": [
        "model.save()"
      ],
      "execution_count": 19,
      "outputs": []
    },
    {
      "cell_type": "code",
      "metadata": {
        "colab": {
          "base_uri": "https://localhost:8080/"
        },
        "id": "85_hw99a86sb",
        "outputId": "393b6b36-24aa-48fd-969c-820319c35c73"
      },
      "source": [
        "'''batch Training with mean square error'''\r\n",
        "model2 = nn.Model(\r\n",
        "    #  nn.Layer(size=(28*28,16*16), activation='Relu'),\r\n",
        "    #  nn.Layer(size=(16*16,16*16), activation='Relu'),\r\n",
        "    #  nn.Layer(size=(16*16,10*10), activation='sigmoid'),\r\n",
        "     nn.Layer(size=(28*28,28), activation='ReLU'),\r\n",
        "     nn.Layer(size=(28,10), activation='tanh')\r\n",
        ")\r\n",
        "\r\n",
        "# plt.imshow(X_test[0].reshape(28,-1))\r\n",
        "# print(model.forward(X_test[0].reshape(1,-1)))\r\n",
        "model2.fit(X_train,label_train,'batch','MSE',alpha = 0.01,epoch = 10,graph_on = False)\r\n",
        "# evaluate the model\r\n",
        "[accuracy,f1_score,confusion_matrix] = model2.evaluate(X_test,label_test,metric = ['accuracy','f1 score','confusion matrix'])\r\n",
        "print(f\"accuracy: {accuracy}\")\r\n",
        "print(f\"f1_score: {f1_score}\")\r\n",
        "print(\"confusion matrix:\\n\",confusion_matrix)\r\n"
      ],
      "execution_count": 20,
      "outputs": [
        {
          "output_type": "stream",
          "text": [
            "epoch: 1,    Loss = 3.523125326743366\n",
            "epoch: 2,    Loss = 3.5209826818878454\n",
            "epoch: 3,    Loss = 3.5188357984900236\n",
            "epoch: 4,    Loss = 3.516684401019384\n",
            "epoch: 5,    Loss = 3.514527311583793\n",
            "epoch: 6,    Loss = 3.5123645258602743\n",
            "epoch: 7,    Loss = 3.5101960396087546\n",
            "epoch: 8,    Loss = 3.5080218486740207\n",
            "epoch: 9,    Loss = 3.5058419489862223\n",
            "epoch: 10,    Loss = 3.503656336571223\n",
            "epoch: 11,    Loss = 3.501465007554843\n",
            "accuracy: 0.5265033407572383\n",
            "f1_score: 0.6898161657426319\n",
            "confusion matrix:\n",
            "            True  False\n",
            "Positive  11820  10630\n",
            "Negative      0      0\n"
          ],
          "name": "stdout"
        }
      ]
    },
    {
      "cell_type": "code",
      "metadata": {
        "id": "LL4GxR5D9A2A"
      },
      "source": [
        "model2.save(\"model2\")"
      ],
      "execution_count": 21,
      "outputs": []
    },
    {
      "cell_type": "code",
      "metadata": {
        "colab": {
          "base_uri": "https://localhost:8080/"
        },
        "id": "sx7E0UPH9cXk",
        "outputId": "a6f2acd3-67ae-41c4-e76c-73e47d442e6f"
      },
      "source": [
        "'''loading a saved model'''\r\n",
        "print(model.forward(X_test[0].reshape(1,-1)))\r\n",
        "model3 = nn.load(\"model.NND\")\r\n",
        "print(model3.forward(X_test[0].reshape(1,-1)))"
      ],
      "execution_count": 22,
      "outputs": [
        {
          "output_type": "stream",
          "text": [
            "[[-3.88696302e-07 -9.99965001e-03 -9.99856151e-03 -7.63940257e-07\n",
            "  -9.94761142e-07 -9.49887545e-07  9.99948549e-03 -5.44949860e-07\n",
            "   2.59528073e-06  1.51914400e-06]]\n",
            "[[-3.88696302e-07 -9.99965001e-03 -9.99856151e-03 -7.63940257e-07\n",
            "  -9.94761142e-07 -9.49887545e-07  9.99948549e-03 -5.44949860e-07\n",
            "   2.59528073e-06  1.51914400e-06]]\n"
          ],
          "name": "stdout"
        }
      ]
    },
    {
      "cell_type": "code",
      "metadata": {
        "id": "R1mP5jOk-xuH"
      },
      "source": [
        "'''the graph part only work in windows not here we we couldnt open the file here  \r\n",
        "we also save gif file but we couldnt show it here'''\r\n"
      ],
      "execution_count": null,
      "outputs": []
    }
  ]
}